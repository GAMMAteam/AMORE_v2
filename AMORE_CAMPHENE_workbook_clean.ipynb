{
 "cells": [
  {
   "cell_type": "code",
   "execution_count": 1,
   "id": "998440d7-f0c5-49b2-8195-095f6ff6a8ff",
   "metadata": {},
   "outputs": [],
   "source": [
    "%load_ext memory_profiler"
   ]
  },
  {
   "cell_type": "code",
   "execution_count": 3,
   "id": "ba1ccd85",
   "metadata": {
    "code_folding": []
   },
   "outputs": [],
   "source": [
    "#import necessary packages\n",
    "import numpy as np\n",
    "import sys\n",
    "import math\n",
    "import pickle\n",
    "import re\n",
    "import isoprene_rates as rate\n",
    "from math import exp as EXP\n",
    "from copy import deepcopy\n",
    "import matplotlib.pyplot as plt\n",
    "import time\n",
    "import csv\n",
    "import pandas as pd\n",
    "import random\n",
    "from scipy.sparse import csr_matrix\n",
    "from scipy.sparse.csgraph import dijkstra\n",
    "import numpy as np\n",
    "from scipy.sparse import coo_matrix\n",
    "from scipy.sparse.csgraph import csgraph_from_dense\n",
    "from scipy.sparse import lil_matrix\n",
    "from scipy.sparse.csgraph import connected_components"
   ]
  },
  {
   "cell_type": "code",
   "execution_count": 1,
   "id": "c50b4f95-3443-4714-a7cc-926958d1181c",
   "metadata": {},
   "outputs": [],
   "source": [
    "# Import the AMORE algorithm"
   ]
  },
  {
   "cell_type": "code",
   "execution_count": 3,
   "id": "764dde7d-5f5b-48b7-8c86-8a2d5370250d",
   "metadata": {},
   "outputs": [],
   "source": [
    "import AMORE_v2 as am"
   ]
  },
  {
   "cell_type": "markdown",
   "id": "3e1380fe-34e6-4e11-94af-cdf9df9f7053",
   "metadata": {},
   "source": [
    "# Camphene"
   ]
  },
  {
   "cell_type": "code",
   "execution_count": 5,
   "id": "fcdb4cc0-9ae4-46eb-83ba-5c2b5edbae3a",
   "metadata": {},
   "outputs": [],
   "source": [
    "# Camphene Rate Functions"
   ]
  },
  {
   "cell_type": "code",
   "execution_count": 7,
   "id": "350f134d-0503-4bd5-afe9-72a1179ed6ff",
   "metadata": {},
   "outputs": [],
   "source": [
    "def arrhenius(A,n,Ea,T):\n",
    "    rate = A*(T**n)*math.exp(-Ea/T)\n",
    "    return rate\n",
    "\n",
    "def ISOM(a1,a2,a3,f1,f2,f3,f4,f5, temp, m):\n",
    "    ar = arrhenius(a1,a2,a3,temp)\n",
    "    iso = f1*(temp**4) + f2*(temp**3) + f3*(temp**2) + f4*temp + f5\n",
    "    \n",
    "    return iso*ar\n",
    "\n",
    "def extra(a1,a2,a3,f1,temp,m):\n",
    "    ar = arrhenius(a1,a2,a3, temp)\n",
    "    return ar\n",
    "def falloff(a1,a2,a3,f1,f2,f3,f4,f5,f6,f7,temp,m):\n",
    "    e1 = f1*((temp/300)**f2)*math.exp(-f3/temp)*m\n",
    "    r1 = e1/(a1*((temp/300)**a2))*math.exp(-a3/temp)\n",
    "    fr1 = 1/(1+((math.log10(r1))**2))\n",
    "    if f5 == 0 or f6 == 0:\n",
    "        lnrate = math.log(e1/(1+r1)) + fr1*math.log(f4)\n",
    "    else:\n",
    "        fr2 = (1-f4)*math.exp(-temp/f5) + f4*math.exp(-temp/f6) + math.exp(-f7/temp)\n",
    "        if f7== 0:\n",
    "            fr2 = fr2 -1\n",
    "        lnrate = math.log(e1/(1+r1)) + fr1*math.log(fr2)\n",
    "    return math.exp(lnrate)\n",
    "def get_rates(rate_numbers, rate_type,a_list_2,b_list_3,temp,press,M,sza):\n",
    "    rates = []\n",
    "    for i in range(len(rate_numbers)):\n",
    "        if rate_type[i] == 'WALL':\n",
    "            rates.append(0)\n",
    "        elif rate_type[i] == 'HV':\n",
    "            ind = a_list_2.index(rate_numbers[i][1][0])\n",
    "            ind2 = b_list_3[ind].index(sza)\n",
    "            r = b_list_3[ind][ind2+1]*rate_numbers[i][1][1]\n",
    "            rates.append(r)\n",
    "        elif rate_type[i] == 'FALLOFF':\n",
    "            rates.append(falloff(rate_numbers[i][0][0],rate_numbers[i][0][1],rate_numbers[i][0][2],rate_numbers[i][1][0],rate_numbers[i][1][1],rate_numbers[i][1][2],rate_numbers[i][1][3],rate_numbers[i][1][4],rate_numbers[i][1][5],rate_numbers[i][1][6],temp,M))\n",
    "        elif rate_type[i] == 'NORMAL':\n",
    "            r = arrhenius(rate_numbers[i][0],rate_numbers[i][1],rate_numbers[i][2],temp)\n",
    "            rates.append(r)\n",
    "        elif rate_type[i]=='ISOM':\n",
    "            r = ISOM(rate_numbers[i][0][0], rate_numbers[i][0][1],rate_numbers[i][0][2], rate_numbers[i][1][0], rate_numbers[i][1][1], rate_numbers[i][1][2], rate_numbers[i][1][3], rate_numbers[i][1][4],temp,M)\n",
    "            rates.append(r)\n",
    "        elif rate_type[i]=='EXTRA':\n",
    "            r = extra(rate_numbers[i][0][0], rate_numbers[i][0][1],rate_numbers[i][0][2], rate_numbers[i][1][0],temp,M)\n",
    "            rates.append(r)\n",
    "        else:\n",
    "            rates.append(0)\n",
    "    return rates\n",
    "CFACTOR = 2.5e+19;\n",
    "RO2 = 0.01*10e-9;\n",
    "SUN = 0.5;\n",
    "TEMP = 295;\n",
    "M = am.pressure_to_m(1000,295);\n",
    "sza = 0;"
   ]
  },
  {
   "cell_type": "code",
   "execution_count": 9,
   "id": "baa311b8-83b5-4702-b52a-f978af039339",
   "metadata": {},
   "outputs": [],
   "source": [
    "# old files\n",
    "folder = 'C:/Users/woods/OneDrive/Documents/Python/Code/camphene_6g_with_spinup/'\n",
    "dict_str = 'C:/Users/woods/OneDrive/Documents/Python/Code/camphene_6gen_mech_dictionary.dict'\n",
    "mech_str = 'C:/Users/woods/OneDrive/Documents/Python/Code/Camphene_6gen_mechanism.txt'"
   ]
  },
  {
   "cell_type": "code",
   "execution_count": 11,
   "id": "aa2009e6-ca12-46b1-84f5-2859f8593805",
   "metadata": {},
   "outputs": [],
   "source": [
    "vol_str = 'C:/Users/woods/OneDrive/Documents/Python/Code/camphene_6g_with_spinup/camphene_6g.psim'"
   ]
  },
  {
   "cell_type": "code",
   "execution_count": 13,
   "id": "47161e58-7a4b-4b9a-bb06-80d7b7ee34e2",
   "metadata": {},
   "outputs": [],
   "source": [
    "fileObject = open(vol_str, \"r\")\n",
    "vol = fileObject.read()\n",
    "vol_raw = vol.split('\\n')[5:-2]\n"
   ]
  },
  {
   "cell_type": "code",
   "execution_count": 15,
   "id": "f44725c4-b8d0-4a84-bd49-dd17783ff60a",
   "metadata": {},
   "outputs": [],
   "source": [
    "vol_dic = {}\n",
    "for i in vol_raw:\n",
    "    vol_dic[i.split('   ')[0]] = float(i.split('   ')[1])\n",
    "    "
   ]
  },
  {
   "cell_type": "code",
   "execution_count": 17,
   "id": "c602a2ce-ec8a-453c-b7e8-6bcaa430922b",
   "metadata": {},
   "outputs": [
    {
     "ename": "NameError",
     "evalue": "name 'np' is not defined",
     "output_type": "error",
     "traceback": [
      "\u001b[1;31m---------------------------------------------------------------------------\u001b[0m",
      "\u001b[1;31mNameError\u001b[0m                                 Traceback (most recent call last)",
      "Cell \u001b[1;32mIn[17], line 3\u001b[0m\n\u001b[0;32m      1\u001b[0m vols \u001b[38;5;241m=\u001b[39m []\n\u001b[0;32m      2\u001b[0m \u001b[38;5;28;01mfor\u001b[39;00m i \u001b[38;5;129;01min\u001b[39;00m vol_dic:\n\u001b[1;32m----> 3\u001b[0m     vols\u001b[38;5;241m.\u001b[39mappend(np\u001b[38;5;241m.\u001b[39mlog10(vol_dic[i]))\n\u001b[0;32m      4\u001b[0m plt\u001b[38;5;241m.\u001b[39mhist(vols)\n\u001b[0;32m      5\u001b[0m plt\u001b[38;5;241m.\u001b[39mxlabel(\u001b[38;5;124m\"\u001b[39m\u001b[38;5;124mSaturation Vapor Pressure (log$_\u001b[39m\u001b[38;5;132;01m{10}\u001b[39;00m\u001b[38;5;124m$ atm)\u001b[39m\u001b[38;5;124m\"\u001b[39m)\n",
      "\u001b[1;31mNameError\u001b[0m: name 'np' is not defined"
     ]
    }
   ],
   "source": [
    "vols = []\n",
    "for i in vol_dic:\n",
    "    vols.append(np.log10(vol_dic[i]))\n",
    "plt.hist(vols)\n",
    "plt.xlabel(\"Saturation Vapor Pressure (log$_{10}$ atm)\")\n",
    "plt.ylabel(\"Species Count\")\n",
    "plt.savefig('vapor_pressure.png')"
   ]
  },
  {
   "cell_type": "code",
   "execution_count": null,
   "id": "3264a333-dd9c-4623-b54b-98d731d979e5",
   "metadata": {},
   "outputs": [],
   "source": [
    "henry_str = 'C:/Users/woods/OneDrive/Documents/Python/Code/camphene_6g_with_spinup/camphene_6g.henry'"
   ]
  },
  {
   "cell_type": "code",
   "execution_count": null,
   "id": "7fdcdf11-0239-44e6-9da9-949b04341220",
   "metadata": {},
   "outputs": [],
   "source": [
    "fileObject = open(henry_str, \"r\")\n",
    "henry = fileObject.read()\n",
    "henry_raw = henry.split('\\n')[:-2]\n"
   ]
  },
  {
   "cell_type": "code",
   "execution_count": null,
   "id": "55521b9a-9377-4a2d-b806-45676ebdc13e",
   "metadata": {},
   "outputs": [],
   "source": [
    "mech_str_m = 'C:/Users/woods/OneDrive/Documents/Python/Code/AMORE_v2_paper_files/GECKO Mech copy/camphene_200_12_9_conc_filter/camphene200.mech'\n",
    "fileObject = open(mech_str_m, \"r\")\n",
    "m_raw = fileObject.read()\n",
    "mech_m_raw = m_raw.split('\\n')[:-2]"
   ]
  },
  {
   "cell_type": "code",
   "execution_count": null,
   "id": "8a1ae395-c6c8-44ba-988c-821def55f0cc",
   "metadata": {},
   "outputs": [],
   "source": [
    "mech_m_raw = mech_m_raw[4:-1]"
   ]
  },
  {
   "cell_type": "code",
   "execution_count": 21,
   "id": "d873dba6-fac5-4d01-8589-e3eab8c2eb96",
   "metadata": {},
   "outputs": [
    {
     "ename": "NameError",
     "evalue": "name 'mech_m_raw' is not defined",
     "output_type": "error",
     "traceback": [
      "\u001b[1;31m---------------------------------------------------------------------------\u001b[0m",
      "\u001b[1;31mNameError\u001b[0m                                 Traceback (most recent call last)",
      "Cell \u001b[1;32mIn[21], line 2\u001b[0m\n\u001b[0;32m      1\u001b[0m r_lsit \u001b[38;5;241m=\u001b[39m \u001b[38;5;28mset\u001b[39m()\n\u001b[1;32m----> 2\u001b[0m \u001b[38;5;28;01mfor\u001b[39;00m i \u001b[38;5;129;01min\u001b[39;00m mech_m_raw:\n\u001b[0;32m      3\u001b[0m     r_lsit\u001b[38;5;241m.\u001b[39madd(i\u001b[38;5;241m.\u001b[39msplit(\u001b[38;5;124m'\u001b[39m\u001b[38;5;124m=>\u001b[39m\u001b[38;5;124m'\u001b[39m)[\u001b[38;5;241m0\u001b[39m])\n",
      "\u001b[1;31mNameError\u001b[0m: name 'mech_m_raw' is not defined"
     ]
    }
   ],
   "source": [
    "r_lsit = set()\n",
    "for i in mech_m_raw:\n",
    "    r_lsit.add(i.split('=>')[0])"
   ]
  },
  {
   "cell_type": "code",
   "execution_count": 26,
   "id": "83367616-90ef-4931-8e6d-bd7a495c7850",
   "metadata": {},
   "outputs": [],
   "source": [
    "henry_dic = {}\n",
    "for i in henry_raw:\n",
    "    henry_dic[i.split('  ')[3].split(' ')[0]] = float(i.split('  ')[1])\n",
    "    "
   ]
  },
  {
   "cell_type": "code",
   "execution_count": 27,
   "id": "e57953cf-f024-435b-af08-82aa6f878b97",
   "metadata": {},
   "outputs": [],
   "source": [
    "henry_dat = []\n",
    "vol_dat = []\n",
    "species_for_cat = []\n",
    "for i in vol_dic:\n",
    "    if i in henry_dic:\n",
    "        henry_dat.append(np.log10(henry_dic[i]))\n",
    "        vol_dat.append(np.log10(vol_dic[i]))\n",
    "        species_for_cat.append(i)"
   ]
  },
  {
   "cell_type": "code",
   "execution_count": 28,
   "id": "8363c0b7-248f-4bf0-a190-04c32e871a17",
   "metadata": {},
   "outputs": [],
   "source": [
    "for i in vol_dic:\n",
    "    if i not in henry_dic:\n",
    "        print('yes')"
   ]
  },
  {
   "cell_type": "code",
   "execution_count": 29,
   "id": "61f73f28-14c1-42e5-ac77-af4d2c8e5faf",
   "metadata": {},
   "outputs": [
    {
     "data": {
      "text/plain": [
       "Text(0, 0.5, 'Vol')"
      ]
     },
     "execution_count": 29,
     "metadata": {},
     "output_type": "execute_result"
    },
    {
     "data": {
      "image/png": "[encoded data removed]",
      "text/plain": [
       "<Figure size 640x480 with 1 Axes>"
      ]
     },
     "metadata": {},
     "output_type": "display_data"
    }
   ],
   "source": [
    "plt.scatter(henry_dat, vol_dat)\n",
    "plt.xlabel(\"Henry\")\n",
    "plt.ylabel(\"Vol\")"
   ]
  },
  {
   "cell_type": "code",
   "execution_count": 30,
   "id": "015f487b-92a0-464d-8f74-0be5120014d5",
   "metadata": {},
   "outputs": [],
   "source": [
    "from sklearn.cluster import KMeans"
   ]
  },
  {
   "cell_type": "code",
   "execution_count": 31,
   "id": "94487a4f-48a1-4606-a586-d35fcd3622e7",
   "metadata": {},
   "outputs": [],
   "source": [
    "data = []\n",
    "for i in range(len(henry_dat)):\n",
    "    data.append([henry_dat[i], vol_dat[i]])"
   ]
  },
  {
   "cell_type": "code",
   "execution_count": 33,
   "id": "788d0881-dfaf-4c9f-b5c7-d33d42f9ae13",
   "metadata": {},
   "outputs": [
    {
     "data": {
      "image/png": "[encoded data removed]",
      "text/plain": [
       "<Figure size 640x480 with 1 Axes>"
      ]
     },
     "metadata": {},
     "output_type": "display_data"
    }
   ],
   "source": [
    "\n",
    "\n",
    "plt.rcParams['font.size'] = 18\n",
    "kmeans = KMeans(n_clusters=15)\n",
    "kmeans.fit(data)\n",
    "\n",
    "plt.scatter(henry_dat, vol_dat, c=kmeans.labels_)\n",
    "plt.yticks([0,-5,-10,-15,-20]) \n",
    "plt.xticks([0,5,10,15]) \n",
    "\n",
    "#plt.scatter(np.log10(1800000000), np.log10(7.345e-08), color='red')\n",
    "#plt.scatter(np.log10(16000000000.0), np.log10(5.905e-12), color='red')\n",
    "plt.ylabel('Log$_{10}$[Vapor Pressure (Pa)]')\n",
    "plt.xlabel(\"Log$_{10}$[Henry's Law Constant (M/atm)]\")\n",
    "plt.savefig('henrys_law.png', dpi=300, bbox_inches='tight')"
   ]
  },
  {
   "cell_type": "code",
   "execution_count": 45,
   "id": "487eea0c-d33c-4207-9d0c-b50beb3a8d5c",
   "metadata": {},
   "outputs": [
    {
     "data": {
      "image/png": "[encoded data removed]",
      "text/plain": [
       "<Figure size 640x480 with 1 Axes>"
      ]
     },
     "metadata": {},
     "output_type": "display_data"
    }
   ],
   "source": [
    "\n",
    "\n",
    "plt.rcParams['font.size'] = 18\n",
    "kmeans = KMeans(n_clusters=15)\n",
    "kmeans.fit(data)\n",
    "\n",
    "plt.scatter(henry_dat, vol_dat, c=kmeans.labels_)\n",
    "plt.yticks([0,-5,-10,-15,-20]) \n",
    "plt.xticks([0,5,10,15]) \n",
    "\n",
    "\n",
    "#plt.scatter(np.log10(1800000000), np.log10(7.345e-08), color='red')\n",
    "#plt.scatter(np.log10(16000000000.0), np.log10(5.905e-12), color='red')\n",
    "plt.ylabel('Log$_{10}$ Vapor Pressure (Pa)')\n",
    "plt.xlabel(\"Log$_{10}$ Henry's Law Constant (M/atm)\")\n",
    "plt.savefig('henrys_law.png', dpi=100, bbox_inches='tight')"
   ]
  },
  {
   "cell_type": "code",
   "execution_count": 47,
   "id": "2bf52862-5762-4136-8c78-2227a5f73866",
   "metadata": {},
   "outputs": [],
   "source": [
    "clusters = kmeans.cluster_centers_"
   ]
  },
  {
   "cell_type": "code",
   "execution_count": 61,
   "id": "d40dfc02-2c9e-4554-a2cc-d9d970481d65",
   "metadata": {},
   "outputs": [],
   "source": [
    "center_specs = []\n",
    "for j in range(len(clusters)):\n",
    "    dists = []\n",
    "    for i in range(len(henry_dat)):\n",
    "        dists.append(np.sqrt((henry_dat[i]-clusters[j][0])**2 + (vol_dat[i]-clusters[j][1])**2))\n",
    "    \n",
    "    center_specs.append(species_for_cat[dists.index(min(dists))])"
   ]
  },
  {
   "cell_type": "code",
   "execution_count": 64,
   "id": "2aa246bd-daec-4f85-b75b-76e4dd468145",
   "metadata": {},
   "outputs": [],
   "source": [
    "cat_dict = {i:[] for i in range(15)}\n",
    "for i in range(len(kmeans.labels_)):\n",
    "    cat_dict[kmeans.labels_[i]].append(species_for_cat[i][1:])"
   ]
  },
  {
   "cell_type": "code",
   "execution_count": null,
   "id": "1303c315-a3b8-4036-a772-f2c83e9c7844",
   "metadata": {},
   "outputs": [],
   "source": []
  },
  {
   "cell_type": "code",
   "execution_count": 67,
   "id": "359f3a4c-6aee-4384-9d0a-9dda61b7c138",
   "metadata": {},
   "outputs": [],
   "source": [
    "import pickle\n",
    "\n",
    "with open('cat_dict_50_new.pickle', 'wb') as f:\n",
    "    # Pickle the 'data' dictionary using the highest protocol available.\n",
    "    pickle.dump(cat_dict, f, pickle.HIGHEST_PROTOCOL)"
   ]
  },
  {
   "cell_type": "code",
   "execution_count": 69,
   "id": "08e17333-21a6-48f7-b1d6-9e5436749177",
   "metadata": {},
   "outputs": [
    {
     "data": {
      "image/png": "[encoded data removed]",
      "text/plain": [
       "<Figure size 640x480 with 1 Axes>"
      ]
     },
     "metadata": {},
     "output_type": "display_data"
    }
   ],
   "source": [
    "henrys = []\n",
    "for i in henry_dic:\n",
    "    henrys.append(np.log10(henry_dic[i]))\n",
    "plt.hist(henrys)\n",
    "plt.xlabel(\"Henry's Law Constant (log$_{10}$ scale)\")\n",
    "plt.ylabel(\"Species Count\")\n",
    "plt.savefig('henrys_law.png')"
   ]
  },
  {
   "cell_type": "code",
   "execution_count": 70,
   "id": "1fc1298c-3221-4794-bf4b-3cb94f6c8a41",
   "metadata": {},
   "outputs": [
    {
     "name": "stdout",
     "output_type": "stream",
     "text": [
      "1.000E+00  0.0      0.END\n",
      "1.000E+00  0.0      0.\n"
     ]
    }
   ],
   "source": [
    "#preamble\n",
    "folder = 'C:/Users/woods/OneDrive/Documents/Python/Code/propane/'\n",
    "dict_str = 'C:/Users/woods/OneDrive/Documents/Python/Code/camphene_6g_with_spinup/camphene_6g.dict'\n",
    "mech_str = 'C:/Users/woods/OneDrive/Documents/Python/Code/camphene_6g_with_spinup/camphene_6g.mech'\n",
    "fileObject = open(dict_str, \"r\")\n",
    "dict_spec = fileObject.read()\n",
    "fileObject = open(mech_str, \"r\")\n",
    "mech = fileObject.read()\n",
    "species_list_raw = dict_spec.split('\\n')\n",
    "species_list_names = [i.split(' ')[0] for i in species_list_raw]\n",
    "#mech_str = 'C:/Users/woods/OneDrive/Documents/Python/Code/Camphene_6gen_mechanism.txt'\n",
    "fileObject = open(dict_str, \"r\")\n",
    "dict_spec = fileObject.read()\n",
    "fileObject = open(mech_str, \"r\")\n",
    "mech = fileObject.read()\n",
    "mech_list_raw = mech.rsplit('\\n')[4:]\n",
    "mech_list_raw.remove('')\n",
    "for i in range(len(mech_list_raw)):\n",
    "    if mech_list_raw[i][0] != 'G' and mech_list_raw[i][0] != 'A' and mech_list_raw[i][0] != 'W':\n",
    "        mech_list_raw[i-1] = mech_list_raw[i-1] + mech_list_raw[i]\n",
    "        mech_list_raw[i] = ''\n",
    "mech_list_raw_2 = []\n",
    "for i in mech_list_raw:\n",
    "    if i != '':\n",
    "        mech_list_raw_2.append(i)\n",
    "# separating reactants, products and rates\n",
    "reacs_raw = []\n",
    "prods_raw = []\n",
    "rates_raw = []\n",
    "count = 0\n",
    "#photo table\n",
    "fileObject = open(folder + \"O3_300DU.phot\",\"r\")\n",
    "photo_table = fileObject.read()\n",
    "for i in mech_list_raw_2:\n",
    "    if 'E-' in i and 'E+' in i:\n",
    "        ll1 = i.split('E-',1)\n",
    "        ll2 = i.split('E+',1)\n",
    "        if len(ll1[0])>len(ll2[0]):\n",
    "            ll = ll2\n",
    "            mark = 'E+'\n",
    "        else:\n",
    "            ll = ll1\n",
    "            mark = 'E-'\n",
    "        reac_prod = ll[0][:-5]\n",
    "        rates = ll[0][-5:] + mark + ll[1]\n",
    "        rp = reac_prod.split('=>')\n",
    "        reacs_raw.append(rp[0])\n",
    "        if len(rp)>1:\n",
    "            prods_raw.append(rp[1])\n",
    "        else:\n",
    "            prods_raw.append('')\n",
    "        rates_raw.append(rates)\n",
    "    elif 'E-' in i:\n",
    "        ll = i.split('E-',1)\n",
    "        reac_prod = ll[0][:-5]\n",
    "        rates = ll[0][-5:] + 'E-' + ll[1]\n",
    "        rp = reac_prod.split('=>')\n",
    "        reacs_raw.append(rp[0])\n",
    "        if len(rp)>1:\n",
    "            prods_raw.append(rp[1])\n",
    "        else:\n",
    "            prods_raw.append('')\n",
    "        rates_raw.append(rates)\n",
    "    elif 'E+' in i:\n",
    "        ll = i.split('E+',1)\n",
    "        reac_prod = ll[0][:-5]\n",
    "        rates = ll[0][-5:] + 'E+' + ll[1]\n",
    "        rp = reac_prod.split('=>')\n",
    "        reacs_raw.append(rp[0])\n",
    "        if len(rp)>1:\n",
    "            prods_raw.append(rp[1])\n",
    "        else:\n",
    "            prods_raw.append('')\n",
    "        rates_raw.append(rates)\n",
    "    count = count + 1\n",
    "if 'END' in rates_raw[-1]:\n",
    "    print(rates_raw[-1])\n",
    "    rates_raw[-1] = rates_raw[-1][:-3]\n",
    "    print(rates_raw[-1])\n",
    "# separating reactants, products and rates\n",
    "rates_raw_2 = []\n",
    "rxn_raw = []\n",
    "for i in mech_list_raw_2:\n",
    "    if 'E-' in i and 'E+' in i:\n",
    "        ll1 = i.split('E-',1)\n",
    "        ll2 = i.split('E+',1)\n",
    "        if len(ll1[0])>len(ll2[0]):\n",
    "            ll = ll2\n",
    "            mark = 'E+'\n",
    "        else:\n",
    "            ll = ll1\n",
    "            mark = 'E-'\n",
    "        reac_prod = ll[0][:-5]\n",
    "        rates = ll[0][-5:] + mark + ll[1]\n",
    "    elif 'E-' in i:\n",
    "        ll = i.split('E-',1)\n",
    "        reac_prod = ll[0][:-5]\n",
    "        rates = ll[0][-5:] + 'E-' + ll[1]\n",
    "\n",
    "    elif 'E+' in i:\n",
    "        ll = i.split('E+',1)\n",
    "        reac_prod = ll[0][:-5]\n",
    "        rates = ll[0][-5:] + 'E+' + ll[1]\n",
    "    rates_raw_2.append(rates)\n",
    "    rxn_raw.append(reac_prod)\n",
    "reac_list = []\n",
    "prod_list = []\n",
    "reac_coeff_list = []\n",
    "prod_coeff_list = []\n",
    "reac_list = []\n",
    "for i in reacs_raw:\n",
    "    rx = []\n",
    "    i2 = i.replace('(+M)','')\n",
    "    ll = i2.split('+')\n",
    "    for j in ll:\n",
    "        rec = j.split(' ')\n",
    "        for k in rec:\n",
    "            if len(k)>0:\n",
    "                rx.append(k)\n",
    "    \n",
    "    reac_list.append(rx)\n",
    "for i in prods_raw:\n",
    "    px = []\n",
    "    nx = []\n",
    "    i2 = i.replace('(+M)','+ M')\n",
    "    ll = i2.split('+')\n",
    "    for j in ll:\n",
    "        pro = j.split(' ')\n",
    "        kl = []\n",
    "        for k in pro:\n",
    "            if len(k)>0:\n",
    "                kl.append(k)\n",
    "        if len(kl)==2:\n",
    "            nx.append(float(kl[0]))\n",
    "            #print(nx)\n",
    "            px.append(kl[1])\n",
    "        elif len(kl)==1:\n",
    "            nx.append(1)\n",
    "            px.append(kl[0])\n",
    "    prod_list.append(px)\n",
    "    prod_coeff_list.append(nx)\n",
    "rates_split = []\n",
    "for i in rates_raw:\n",
    "    x = i.split(' ')\n",
    "    y = []\n",
    "    for j in x:\n",
    "        if j != '' and j != '/':\n",
    "            y.append(j)\n",
    "    rates_split.append(y)\n",
    "photo_raw = photo_table.split('/')\n",
    "photo_raw2 = []\n",
    "for i in photo_raw:\n",
    "    if ' 10' in i:\n",
    "        photo_raw2.append(i)\n",
    "a_list = []\n",
    "b_list = []\n",
    "for i in range(len(photo_raw2)):\n",
    "    split1 = photo_raw2[i].split(' 10\\n')\n",
    "    a = split1[0].split(' ')\n",
    "    for k in range(len(a)):\n",
    "        if a[-k] != ' ' and a[-k] != '':\n",
    "            a_list.append(a[-k])\n",
    "            break\n",
    "    b = split1[1]\n",
    "    b_list.append(b)\n",
    "a_list = a_list[1:]\n",
    "a_list_2 = []\n",
    "for i in a_list:\n",
    "    a_list_2.append(float(i))\n",
    "b_list = b_list[1:]\n",
    "b_list_2 = [i.split('\\n')[:-1] for i in b_list]\n",
    "b_list_3 = []\n",
    "b_list_2[-1].remove('END ')\n",
    "for i in b_list_2:\n",
    "    ll = []\n",
    "    for j in i:\n",
    "        nn = j.split('  ')\n",
    "        for k in nn:\n",
    "            if k!='':\n",
    "                ll.append(float(k))\n",
    "    b_list_3.append(ll)\n",
    "rate_type = []\n",
    "rate_numbers = []\n",
    "for i in rates_raw:\n",
    "    if 'FALLOFF' in i:\n",
    "        rate_type.append('FALLOFF')\n",
    "        parts = i.split('FALLOFF')\n",
    "        part0 = parts[0].split(' ')\n",
    "        nums0 = []\n",
    "        for k in part0:\n",
    "            if k != '' and k != ' ' and k!= '/':\n",
    "                k = k.replace('/','')\n",
    "                nums0.append(float(k))\n",
    "        part1 = parts[1].split(' ')\n",
    "        nums1 = []\n",
    "        for k in part1:\n",
    "            if k != '' and k != ' ' and k!= '/':\n",
    "                k = k.replace('/','')\n",
    "                nums1.append(float(k))\n",
    "        rate_numbers.append([nums0,nums1])\n",
    "    elif 'EXTRA' in i:\n",
    "        rate_type.append('EXTRA')\n",
    "        parts = i.split('EXTRA')\n",
    "        part0 = parts[0].split(' ')\n",
    "        nums0 = []\n",
    "        for k in part0:\n",
    "            if k != '' and k != ' ' and k!= '/':\n",
    "                k = k.replace('/','')\n",
    "                nums0.append(float(k))\n",
    "        part1 = parts[1].split(' ')\n",
    "        nums1 = []\n",
    "        for k in part1:\n",
    "            if k != '' and k != ' ' and k!= '/':\n",
    "                k = k.replace('/','')\n",
    "                nums1.append(float(k))\n",
    "        rate_numbers.append([nums0,nums1])\n",
    "    elif 'ISOM' in i:\n",
    "        rate_type.append('ISOM')\n",
    "        parts = i.split('ISOM')\n",
    "        part0 = parts[0].split(' ')\n",
    "        nums0 = []\n",
    "        for k in part0:\n",
    "            if k != '' and k != ' ' and k!= '/':\n",
    "                k = k.replace('/','')\n",
    "                nums0.append(float(k))\n",
    "        part1 = parts[1].split(' ')\n",
    "        nums1 = []\n",
    "        for k in part1:\n",
    "            if k != '' and k != ' ' and k!= '/':\n",
    "                k = k.replace('/','')\n",
    "                nums1.append(float(k))\n",
    "        rate_numbers.append([nums0,nums1])\n",
    "    elif 'LOW' in i:\n",
    "        rate_type.append('LOW')\n",
    "        parts = i.split('LOW')\n",
    "        part0 = parts[0].split(' ')\n",
    "        nums0 = []\n",
    "        for k in part0:\n",
    "            if k != '' and k != ' ' and k!= '/':\n",
    "                k = k.replace('/','')\n",
    "                nums0.append(float(k))\n",
    "        part1 = parts[1].split(' ')\n",
    "        nums1 = []\n",
    "        for k in part1:\n",
    "            if k != '' and k != ' ' and k!= '/':\n",
    "                k = k.replace('/','')\n",
    "                nums1.append(float(k))\n",
    "        rate_numbers.append([nums0,nums1])\n",
    "    elif 'HV' in i:\n",
    "        rate_type.append('HV')\n",
    "        parts = i.split('HV')\n",
    "        part0 = parts[0].split(' ')\n",
    "        nums0 = []\n",
    "        for k in part0:\n",
    "            if k != '' and k != ' ' and k!= '/':\n",
    "                k = k.replace('/','')\n",
    "                nums0.append(float(k))\n",
    "        part1 = parts[1].split(' ')\n",
    "        nums1 = []\n",
    "        for k in part1:\n",
    "            if k != '' and k != ' ' and k!= '/':\n",
    "                k = k.replace('/','')\n",
    "                nums1.append(float(k))\n",
    "        rate_numbers.append([nums0,nums1])\n",
    "    elif 'WIN' in i:\n",
    "        rate_type.append('WALL')\n",
    "        rate_numbers.append([0])\n",
    "        #print(i.split('WIN'))\n",
    "        \n",
    "    elif 'WOU' in i:\n",
    "        rate_type.append('WALL')\n",
    "        #print(i.split('WOU'))\n",
    "        rate_numbers.append([0])\n",
    "    else:\n",
    "        rate_type.append('NORMAL')\n",
    "        nums = i.split(' ')\n",
    "        nums_real = []\n",
    "        for k in nums:\n",
    "            if k != ' ' and k!= '':\n",
    "                nums_real.append(float(k))\n",
    "        rate_numbers.append(nums_real)\n",
    "k_list = get_rates(rate_numbers, rate_type,a_list_2,b_list_3,298,1000,M,0)\n"
   ]
  },
  {
   "cell_type": "code",
   "execution_count": 72,
   "id": "2eae038f-5a7f-4ebd-abda-3b13ba5c7b3d",
   "metadata": {},
   "outputs": [],
   "source": [
    "i = 0\n",
    "while 'GCMPHEN' not in reac_list[i]:\n",
    "    i = i+1\n",
    "background_rxns = list(range(i))\n",
    "\n",
    "aero_rxns = []\n",
    "for i in range(len(reac_list)):\n",
    "    if 'AOU' in reac_list[i] or 'AIN' in reac_list[i]:\n",
    "        aero_rxns.append(i)"
   ]
  },
  {
   "cell_type": "code",
   "execution_count": 73,
   "id": "cd02001f-cbd4-4fec-9732-14fe46381afe",
   "metadata": {},
   "outputs": [],
   "source": [
    "#species list\n",
    "species_list_names.extend(['PERO1','PERO2','PERO3','PERO4','PERO5','PERO6','PERO7','PERO8',\n",
    "                    'PERO9','MEPERO','OXYGEN','HV','NOTHING','M','EXTRA', 'ISOM', 'TBODY','FALLOFF'])\n",
    "species_list_names = list(set(species_list_names))\n",
    "species_list = list(range(len(species_list_names)))\n",
    "spec_len = len(species_list)"
   ]
  },
  {
   "cell_type": "code",
   "execution_count": 74,
   "id": "a65d9da8-c7d5-4c7b-9d51-4301803a4228",
   "metadata": {},
   "outputs": [],
   "source": [
    "reac_len = len(reac_list)"
   ]
  },
  {
   "cell_type": "code",
   "execution_count": 75,
   "id": "336365c8-5107-4233-9c79-f23aeb7e6f38",
   "metadata": {},
   "outputs": [],
   "source": [
    "dic = {species_list_names[i]:i for i in range(spec_len)}"
   ]
  },
  {
   "cell_type": "code",
   "execution_count": 76,
   "id": "1c50277e-4001-4f85-81c4-8cb8c9c17ee6",
   "metadata": {},
   "outputs": [],
   "source": [
    "reac_coeff_list = []\n",
    "for i in reac_list:\n",
    "    rl = []\n",
    "    for j in i:\n",
    "        rl.append(1)\n",
    "    reac_coeff_list.append(rl)"
   ]
  },
  {
   "cell_type": "code",
   "execution_count": 77,
   "id": "e6336082-4e8a-4415-85e4-fb69901667ad",
   "metadata": {},
   "outputs": [],
   "source": [
    "#reac_list\n",
    "reac_list_n = deepcopy(reac_list)\n",
    "prod_list_n = deepcopy(prod_list)\n",
    "for i in range(len(reac_list_n)):\n",
    "    for j in range(len(reac_list_n[i])):\n",
    "        if reac_list_n[i][j][0]=='G':\n",
    "            reac_list_n[i][j] = reac_list_n[i][j][1:]\n",
    "for i in range(len(prod_list_n)):\n",
    "    for j in range(len(prod_list_n[i])):\n",
    "        if prod_list_n[i][j][0]=='G':\n",
    "            prod_list_n[i][j] = prod_list_n[i][j][1:]\n",
    "for i in range(len(reac_list_n)):\n",
    "    if 'M' in reac_list_n[i]:\n",
    "        reac_list_n[i].remove('M')"
   ]
  },
  {
   "cell_type": "code",
   "execution_count": 78,
   "id": "bbb23c19-2cd1-4ce2-b9d7-f4d95eaf3da0",
   "metadata": {},
   "outputs": [],
   "source": [
    "#background_spc\n",
    "#a list of background species to be excluded from our reaction network for visual clarity (and also because they will mess with the drg reduction method)\n",
    "background_spc_0 = ['TBODY','AIN','AOU','ISOM','HO','OH','NO','NO2','NO3','HO2','O3','CH3OO','PERO1','PERO2','PERO3','PERO4','PERO5','PERO6','PERO7','PERO8',\n",
    "                    'PERO9','MEPERO','OXYGEN','HV','H', 'MALAHY', 'FURON', 'CH3O2', 'H2','NOTHING','M','EXTRA','CO2','CO','O2','N2O5','H2O','H2O2','H2Od','SO2',\n",
    "                  'H2S','HF','H2S','N2H4','HN3','HI','HBr',\n",
    "                  'HCl','HCN','H2Se','H2Te','NH2OH','HBrO','HClO','H3PO2','HPO3',\n",
    "                  'H2O3','OF2','O2F2','NOHSO4','COS','N2F4','N2O4','N2O3','HNO3',\n",
    "                  'HNO2','N2O','NF5','NI3','H2SO4','CS2','H2CO3','H2SO3','SO2Cl2','S4N4','H2SO5',\n",
    "                  'H2S2O7','S2F10','H3NO3S','Br2S','SF6','SF4', 'CH3CO3']\n",
    "background_spc = []\n",
    "background_spc_n = []\n",
    "for i in background_spc_0:\n",
    "    if i in species_list_names:\n",
    "        background_spc_n.append(i)\n",
    "        background_spc.append(species_list_names.index(i))"
   ]
  },
  {
   "cell_type": "code",
   "execution_count": 79,
   "id": "4b1cecf6-e4c5-4d7e-b646-2f884953cac3",
   "metadata": {},
   "outputs": [],
   "source": [
    "remove_these = set([species_list_names.index('HV'), species_list_names.index('NOTHING'),species_list_names.index('M'),species_list_names.index('EXTRA')])\n"
   ]
  },
  {
   "cell_type": "code",
   "execution_count": 80,
   "id": "95114375-7e67-402d-ab01-e7dc55eb6e76",
   "metadata": {},
   "outputs": [],
   "source": [
    "# remove redundant species\n",
    "for i in range(len(reac_list)):\n",
    "    if any([x in remove_these for x in reac_list[i]]):\n",
    "        \n",
    "        for j in range(len(reac_list[i])):\n",
    "            if reac_list[i][j] not in remove_these:\n",
    "                rx = [reac_list[i][j]]\n",
    "        reac_list[i] = rx"
   ]
  },
  {
   "cell_type": "code",
   "execution_count": 81,
   "id": "d7f73d7b-4e08-4221-b57f-abe49d0278bc",
   "metadata": {},
   "outputs": [],
   "source": [
    "#background_rxns\n",
    "background_conc = [0.0002,\n",
    "                   \n",
    " 0.015,\n",
    " 0.5,\n",
    " 0.001,\n",
    " 0.007,\n",
    " 20,\n",
    " 0.0001,\n",
    " 0.0001,\n",
    " 0.0001,\n",
    " 0.0001,\n",
    " 0.0001,\n",
    " 0.0001,\n",
    " 0.0001,\n",
    " 0.0001,\n",
    " 0.0001,\n",
    " 0.0001,\n",
    "  210000000,\n",
    " 4.0727831285287275e-29,\n",
    " 1e-5,\n",
    " 1e-5,\n",
    " 1e-5,\n",
    " 1e-5,\n",
    " 1e-5,\n",
    " 4.0727831285287275e-29,\n",
    " 4.0727831285287275e-29,\n",
    " 4.0727831285287275e-29,\n",
    " 400,\n",
    " 9,\n",
    " 210000000,\n",
    " 0,\n",
    " 0,\n",
    " 0,\n",
    " 0,\n",
    " 0,\n",
    " 0,\n",
    " 0]"
   ]
  },
  {
   "cell_type": "code",
   "execution_count": 82,
   "id": "17440ced-873b-40ce-afc1-063b9dda810a",
   "metadata": {},
   "outputs": [],
   "source": [
    "# atmospheric inputs\n",
    "atm_cond = {}\n",
    "temp = 298\n",
    "pressure = 1000\n",
    "solar_zenith = 0\n",
    "solar_factor = 1\n",
    "atm_cond['temp'] = temp\n",
    "atm_cond['pres'] = pressure\n",
    "atm_cond['sza'] = solar_zenith\n",
    "atm_cond['sun'] = solar_factor"
   ]
  },
  {
   "cell_type": "code",
   "execution_count": 83,
   "id": "3d205e04-7dfe-4b3a-991b-9d448582ab63",
   "metadata": {},
   "outputs": [],
   "source": [
    "#background concentrations\n",
    "background_dict = {}\n",
    "for i in range(len(background_spc_n)):\n",
    "    if i<len(background_conc):\n",
    "        background_dict[background_spc_n[i]] = background_conc[i]\n",
    "    else:\n",
    "        background_dict[background_spc_n[i]] = 0"
   ]
  },
  {
   "cell_type": "code",
   "execution_count": 84,
   "id": "f113b527-a9dd-4bed-b0a8-fc028c074186",
   "metadata": {},
   "outputs": [],
   "source": [
    "#reactions\n",
    "rxn_dict = {}\n",
    "rxn_dict['reac'] = reac_list_n\n",
    "rxn_dict['reac_coeff'] = reac_coeff_list\n",
    "rxn_dict['prod'] = prod_list_n\n",
    "rxn_dict['prod_coeff'] = prod_coeff_list\n",
    "rxn_dict['k'] = k_list"
   ]
  },
  {
   "cell_type": "code",
   "execution_count": 85,
   "id": "b185c435-700b-433d-9f43-b51bce69c1c2",
   "metadata": {},
   "outputs": [],
   "source": [
    "# algorithm settings\n",
    "settings = {}\n",
    "settings['root'] = 'TT0000'\n",
    "settings['# of species desired'] = 200"
   ]
  },
  {
   "cell_type": "code",
   "execution_count": 86,
   "id": "9416be1e-9567-4c12-b44a-388e69c67133",
   "metadata": {},
   "outputs": [],
   "source": [
    "scnd_reactants = {}"
   ]
  },
  {
   "cell_type": "code",
   "execution_count": 87,
   "id": "73139697-cd0f-4013-947e-3e6f75cbeb25",
   "metadata": {},
   "outputs": [],
   "source": [
    "inputs = {'spc':species_list_names, 'rxn':rxn_dict, 'bck':background_dict, 'scnd':scnd_reactants, 'atm cond':atm_cond,'settings':settings}"
   ]
  },
  {
   "cell_type": "code",
   "execution_count": 88,
   "id": "a9bad935-d56b-4f36-8de5-bf161c49e3e4",
   "metadata": {},
   "outputs": [
    {
     "name": "stdout",
     "output_type": "stream",
     "text": [
      "Please provide concentrations for the following species: AOU AIN MODO2 A02000 FALLOFF XH3O2 YO HCOOH \n"
     ]
    }
   ],
   "source": [
    "#second reactants\n",
    "second_reactants = []\n",
    "for i in inputs['rxn']['reac']:\n",
    "    if len(i)==2:\n",
    "        second_reactants.append(i[1])\n",
    "second_reactants = list(set(second_reactants))\n",
    "second_reactants_2 = []\n",
    "for i in second_reactants:\n",
    "    if i not in inputs['bck']:\n",
    "        second_reactants_2.append(i)\n",
    "second_reactants = deepcopy(second_reactants_2)\n",
    "prnt_str = 'Please provide concentrations for the following species: '\n",
    "for i in second_reactants:\n",
    "    prnt_str = prnt_str + i + ' '\n",
    "print(prnt_str)"
   ]
  },
  {
   "cell_type": "code",
   "execution_count": 89,
   "id": "ea0c30c1-a3c9-4662-b2ec-57e60618510e",
   "metadata": {},
   "outputs": [],
   "source": [
    "scnd_reactants = {}"
   ]
  },
  {
   "cell_type": "code",
   "execution_count": 90,
   "id": "3b313b5e-250c-4ec7-8ecc-3c6e2fb5fd7e",
   "metadata": {},
   "outputs": [],
   "source": [
    "del mech"
   ]
  },
  {
   "cell_type": "markdown",
   "id": "8872102b-6fff-49af-bc09-59e0f75be037",
   "metadata": {},
   "source": [
    "### Camphene Inputs"
   ]
  },
  {
   "cell_type": "code",
   "execution_count": 112,
   "id": "e7bbcf4b-721f-46a1-9148-f9712b6b82ee",
   "metadata": {},
   "outputs": [],
   "source": [
    "settings = {}"
   ]
  },
  {
   "cell_type": "code",
   "execution_count": 114,
   "id": "0ebcc679-18ea-4ba0-a733-fdd1f87d960c",
   "metadata": {},
   "outputs": [],
   "source": [
    "settings['roots'] = ['CMPHEN']\n",
    "settings['Weak rxn cutoff'] = 0.000001\n",
    "settings['Remove weak reactions'] = True\n",
    "settings['Mechanism Size'] = 75\n",
    "settings['Background Rxns'] = background_rxns\n",
    "settings['Aerosol Rxns'] = aero_rxns"
   ]
  },
  {
   "cell_type": "code",
   "execution_count": 116,
   "id": "1da1c5b2-14e4-426f-8013-fc027b872826",
   "metadata": {},
   "outputs": [],
   "source": [
    "settings['Weak rxn cutoff'] = 0.000000\n",
    "settings['Remove weak reactions'] = True\n",
    "settings['Categories'] = []\n",
    "settings['Protected'] = ['CMPHEN']"
   ]
  },
  {
   "cell_type": "code",
   "execution_count": 118,
   "id": "e536a317-e205-4ae3-901a-30055a9817e8",
   "metadata": {},
   "outputs": [],
   "source": [
    "dic = {species_list_names[i]:i for i in range(spec_len)}"
   ]
  },
  {
   "cell_type": "code",
   "execution_count": 120,
   "id": "5f263804-d4a8-4c7c-a5da-1dbe767d651d",
   "metadata": {},
   "outputs": [],
   "source": [
    "k_lists = [get_rates(rate_numbers, rate_type,a_list_2,b_list_3,295,1000,M,0),\n",
    "           get_rates(rate_numbers, rate_type,a_list_2,b_list_3,295,1000,M,0),\n",
    "           get_rates(rate_numbers, rate_type,a_list_2,b_list_3,295,1000,M,0),\n",
    "           get_rates(rate_numbers, rate_type,a_list_2,b_list_3,295,1000,M,0),\n",
    "           get_rates(rate_numbers, rate_type,a_list_2,b_list_3,270,1000,M,86),\n",
    "           get_rates(rate_numbers, rate_type,a_list_2,b_list_3,270,1000,M,86)]"
   ]
  },
  {
   "cell_type": "code",
   "execution_count": 123,
   "id": "43f7b876-2cfa-489d-9ca9-a66cba9c804f",
   "metadata": {},
   "outputs": [],
   "source": [
    "reaction_list = []\n",
    "for i in range(len(reac_list_n)):\n",
    "    r = reac_list_n[i]\n",
    "    p = {}\n",
    "    for j in range(len(prod_list_n[i])):\n",
    "        p[prod_list_n[i][j]] = prod_coeff_list[i][j]\n",
    "    k1 = 'null'\n",
    "    k2 = [k_lists[0][i], k_lists[1][i], k_lists[2][i], k_lists[3][i], k_lists[4][i], k_lists[5][i]]\n",
    "    k3 = 1\n",
    "    k4 = rates_raw[i]\n",
    "    reaction_list.append(am.Reaction(r,p,k1,k2,k3,k4))"
   ]
  },
  {
   "cell_type": "code",
   "execution_count": 125,
   "id": "3d4e7480-91e0-468f-a91c-cdf73e17dc00",
   "metadata": {},
   "outputs": [],
   "source": [
    "camphene_mech = am.Mechanism(species_list_names, reaction_list)"
   ]
  },
  {
   "cell_type": "code",
   "execution_count": 127,
   "id": "44dc8a78-63f0-4c37-89cd-5aa308fc51fd",
   "metadata": {},
   "outputs": [],
   "source": [
    "settings['Categories'] = [['cat'+str(i),cat_dict[i]] for i in cat_dict]"
   ]
  },
  {
   "cell_type": "code",
   "execution_count": 129,
   "id": "77d755b1-6d50-4c6f-b0c0-67048edc6cf1",
   "metadata": {},
   "outputs": [],
   "source": [
    "two_set = set()\n",
    "for i in camphene_mech.reactions:\n",
    "    if len(i.reactants)==2:\n",
    "        two_set.add(i.reactants[1])"
   ]
  },
  {
   "cell_type": "code",
   "execution_count": 131,
   "id": "8be4e0cf-206f-4b42-adb8-e359d2e344fb",
   "metadata": {},
   "outputs": [],
   "source": [
    "no_counts = {'AIN','AOU','EXTRA','FALLOFF','FALOFF','HV','ISOM','TBODY'}"
   ]
  },
  {
   "cell_type": "code",
   "execution_count": 135,
   "id": "718c7f94-6d8f-4f89-89f4-f236df54b8d2",
   "metadata": {},
   "outputs": [],
   "source": [
    "def arrhenius(A,n,Ea,T):\n",
    "    rate = A*(T**n)*math.exp(-Ea/T)\n",
    "    return rate\n",
    "def falloff(a1,a2,a3,f1,f2,f3,f4,f5,f6,f7,temp,m):\n",
    "    e1 = f1*((temp/300)**f2)*math.exp(-f3/temp)*m\n",
    "    r1 = e1/(a1*((temp/300)**a2))*math.exp(-a3/temp)\n",
    "    fr1 = 1/(1+((math.log10(r1))**2))\n",
    "    if f5 == 0 or f6 == 0:\n",
    "        lnrate = math.log(e1/(1+r1)) + fr1*math.log(f4)\n",
    "    else:\n",
    "        fr2 = (1-f4)*math.exp(-temp/f5) + f4*math.exp(-temp/f6) + math.exp(-f7/temp)\n",
    "        if f7== 0:\n",
    "            fr2 = fr2 -1\n",
    "        lnrate = math.log(e1/(1+r1)) + fr1*math.log(fr2)\n",
    "    return math.exp(lnrate)\n",
    "'''def get_rates(rate_numbers, rate_type,a_list_2,b_list_3,temp,press,M,sza):\n",
    "    rates = []\n",
    "    for i in range(len(rate_numbers)):\n",
    "        if rate_type[i] == 'WALL' or rate_type[i] == 'EXTRA':\n",
    "            rates.append(0)\n",
    "        elif rate_type[i] == 'HV':\n",
    "            ind = a_list_2.index(rate_numbers[i][1][0])\n",
    "            ind2 = b_list_3[ind].index(sza)\n",
    "            r = b_list_3[ind][ind2+1]*rate_numbers[i][1][1]\n",
    "            rates.append(r)\n",
    "        elif rate_type[i] == 'FALLOFF':\n",
    "            rates.append(falloff(rate_numbers[i][0][0],rate_numbers[i][0][1],rate_numbers[i][0][2],rate_numbers[i][1][0],rate_numbers[i][1][1],rate_numbers[i][1][2],rate_numbers[i][1][3],rate_numbers[i][1][4],rate_numbers[i][1][5],rate_numbers[i][1][6],temp,M))\n",
    "        elif rate_type[i] == 'NORMAL':\n",
    "            r = arrhenius(rate_numbers[i][0],rate_numbers[i][1],rate_numbers[i][2],temp)\n",
    "            rates.append(r)\n",
    "        else:\n",
    "            rates.append(0)\n",
    "    return rates'''\n",
    "CFACTOR = 0#2.5e+19;\n",
    "RO2 = 0.01*10e-9;\n",
    "SUN = 0.5;\n",
    "TEMP = 295;\n",
    "M = am.pressure_to_m(1000,295);\n",
    "sza = 0;"
   ]
  },
  {
   "cell_type": "code",
   "execution_count": 137,
   "id": "a90d9a45-78ec-4a67-aed5-37519ef066eb",
   "metadata": {},
   "outputs": [],
   "source": [
    "def_cond_dict = {'OH':1, 'HO2':1, 'pressure':1000,'temp':295,'sza':0,'sun':1, 'ISOP':1}"
   ]
  },
  {
   "cell_type": "code",
   "execution_count": 139,
   "id": "4c834210-b7e5-45a1-bc01-c657a9b0a9d9",
   "metadata": {},
   "outputs": [],
   "source": [
    "for i in {'CH4','HNO2','HNO3','ISOP1OH2OO3OH4OOH', 'ISOP1N4OO', 'HOCH2COCHO', 'ISOP1OH2OOH3OH4OO', 'H2Od', 'NO3', 'ISOP1N4O', 'ISOP1OO4N', 'ISOP1OH4OOt', 'CH3CO3', 'ISOP1N2OH3OO4OH', 'HCOOH', 'MACR2OH3N', 'ISOP1OH4OOc', 'SO2', 'ISOP1OO4OHc', 'NO2', 'MACR2N3OH', 'ISOP1OH2OO3CO4OH', 'ISOP1N2OO3OH4OH', 'ETHLN', 'ISOP1N2OO', 'ISOP1OO4OHt', 'ISOP3OO4OH', 'NO', 'O2', 'O3', 'H2O', 'ISOP3OO4N', 'ISOP1OH2OO', 'CH3OO','PERO2', 'H2O2', 'PERO3', 'NO3', 'EXTRA', 'HO', 'MEPERO', 'H', 'FURON', 'CO', 'CO2', 'SO2', 'HV', 'PERO1', 'NO2', 'CH3O2', 'HO2', 'HNO2', 'NO', 'MALAHY', 'O2', 'O3', 'H2', 'PERO9', 'OXYGEN', 'PERO6', 'PERO5'}:\n",
    "    def_cond_dict[i] = 0"
   ]
  },
  {
   "cell_type": "code",
   "execution_count": 141,
   "id": "fec08cdf-7878-457e-bfe8-4e5ca3bb51b1",
   "metadata": {},
   "outputs": [],
   "source": [
    "def_cond_dict['ISOP1OH2OO3OH4OOH'] = 7.17554085621398e-06/2\t\n",
    "def_cond_dict['ISOP1N4OO'] = 5e-5/2\n",
    "def_cond_dict['HOCH2COCHO'] = 0.0020581917381866/2\n",
    "def_cond_dict['ISOP1OH2OOH3OH4OO'] = 4.10637313603636e-06/2\n",
    "def_cond_dict['ISOP1N4O'] = 3.68808775192020e-58/2\n",
    "def_cond_dict['ISOP1OO4N'] = 1e-5/2\n",
    "def_cond_dict['ISOP1OH4OOt'] = 7.39265328797610e-05/2\n",
    "def_cond_dict['ISOP1N2OH3OO4OH'] = 1.92960943798541e-07/2\n",
    "def_cond_dict['MACR2OH3N'] = 4.97424761756957e-09/2\n",
    "def_cond_dict['ISOP1OH4OOc'] = 3.65328929974487e-06/2\n",
    "def_cond_dict['ISOP1OO4OHc'] = 9.69261827506265e-07/2\n",
    "def_cond_dict['MACR2N3OH'] = 7.66047361804737e-06/2\n",
    "def_cond_dict['ISOP1OH2OO3CO4OH'] = 6.41021238985632e-06/2\n",
    "def_cond_dict['ISOP1N2OO3OH4OH'] = 2.09039993272612e-07/2\n",
    "def_cond_dict['ETHLN'] = 0.000581804550193117/2\n",
    "def_cond_dict['ISOP1N2OO'] = 5e-5/2\n",
    "def_cond_dict['ISOP1OO4OHt'] = 1.94366247386168e-05/2\n",
    "def_cond_dict['ISOP3OO4OH'] = 0.000346753677764705/2\n",
    "def_cond_dict['ISOP3OO4N'] = 5e-6/2\n",
    "def_cond_dict['ISOP1OH2OO'] = 0.00166812115663153/2"
   ]
  },
  {
   "cell_type": "code",
   "execution_count": 143,
   "id": "a1832ddd-d3ec-4f98-bc64-6f21268e7543",
   "metadata": {},
   "outputs": [],
   "source": [
    "conditions = [deepcopy(def_cond_dict),deepcopy(def_cond_dict),deepcopy(def_cond_dict),deepcopy(def_cond_dict),deepcopy(def_cond_dict),deepcopy(def_cond_dict)\n",
    "        ]"
   ]
  },
  {
   "cell_type": "code",
   "execution_count": 145,
   "id": "427fe0eb-ee83-48f9-ab43-032e1a4f2a6b",
   "metadata": {},
   "outputs": [],
   "source": [
    "#input conditions\n",
    "conditions[0]['OH'] = 0.0002\n",
    "conditions[0]['HO2'] = 7.00E-03\n",
    "conditions[0]['NO'] = 0.08\n",
    "conditions[0]['NO2'] = 5\n",
    "conditions[0]['O3'] = 20\n",
    "conditions[0]['NO3'] = 0.007\n",
    "conditions[0]['CH3OO'] = 0.001\n",
    "conditions[0]['CH3CO3'] = 0.001\n",
    "conditions[0]['O2'] = 210000000\n",
    "conditions[0]['sza'] = 0\n",
    "conditions[0]['sun'] = 1\n",
    "\n",
    "#low nox\n",
    "conditions[1]['OH'] = 0.0002\n",
    "conditions[1]['HO2'] = 7.00E-03\n",
    "conditions[1]['NO'] = 0.02\n",
    "conditions[0]['NO2'] = 0.5\n",
    "conditions[1]['O3'] = 0\n",
    "conditions[1]['NO3'] = 0.000\n",
    "conditions[1]['CH3OO'] = 0.000\n",
    "conditions[1]['CH3CO3'] = 0.000\n",
    "conditions[1]['O2'] = 210000000\n",
    "conditions[1]['sza'] = 0\n",
    "conditions[1]['sun'] = 1\n",
    "\n",
    "#high nox\n",
    "conditions[2]['OH'] = 0.0002\n",
    "conditions[2]['HO2'] = 7.00E-03\n",
    "conditions[2]['NO'] = 0.2\n",
    "conditions[0]['NO2'] = 20\n",
    "conditions[2]['O3'] = 0\n",
    "conditions[2]['NO3'] = 0.000\n",
    "conditions[2]['CH3OO'] = 0.000\n",
    "conditions[2]['CH3CO3'] = 0.000\n",
    "conditions[2]['O2'] = 210000000\n",
    "conditions[2]['sza'] = 0\n",
    "conditions[2]['sun'] = 1\n",
    "\n",
    "#high o3\n",
    "conditions[3]['OH'] = 0.0001\n",
    "conditions[3]['HO2'] = 7.00E-03\n",
    "conditions[3]['NO'] = 0.03\n",
    "conditions[0]['NO2'] = 10\n",
    "conditions[3]['O3'] = 80\n",
    "conditions[3]['NO3'] = 0.000\n",
    "conditions[3]['CH3OO'] = 0.001\n",
    "conditions[3]['CH3CO3'] = 0.001\n",
    "conditions[3]['O2'] = 210000000\n",
    "conditions[3]['sza'] = 0\n",
    "conditions[3]['sun'] = 1\n",
    "\n",
    "#high no3 low hv\n",
    "conditions[4]['OH'] = 0.00005\n",
    "conditions[4]['HO2'] = 3.00E-03\n",
    "conditions[4]['NO'] = 0.08\n",
    "conditions[0]['NO2'] = 5\n",
    "conditions[4]['O3'] = 0\n",
    "conditions[4]['NO3'] = 0.007\n",
    "conditions[4]['CH3OO'] = 0.001\n",
    "conditions[4]['CH3CO3'] = 0.001\n",
    "conditions[4]['O2'] = 210000000\n",
    "conditions[4]['sza'] = 90\n",
    "conditions[4]['sun'] = 0\n",
    "# low hv\n",
    "conditions[5]['OH'] = 0.00005\n",
    "conditions[5]['HO2'] = 3.00E-03\n",
    "conditions[5]['NO'] = 0.08\n",
    "conditions[0]['NO2'] = 2\n",
    "conditions[5]['O3'] = 20\n",
    "conditions[5]['NO3'] = 0.000\n",
    "conditions[5]['CH3OO'] = 0.001\n",
    "conditions[5]['CH3CO3'] = 0.001\n",
    "conditions[5]['O2'] = 210000000\n",
    "conditions[5]['sza'] = 90\n",
    "conditions[5]['sun'] = 0"
   ]
  },
  {
   "cell_type": "code",
   "execution_count": 147,
   "id": "4cc6618b-bdd9-4c00-b5ca-8d21a0583643",
   "metadata": {},
   "outputs": [],
   "source": [
    "# f\n",
    "conditions = [deepcopy(def_cond_dict)]\n",
    "#input condition\n",
    "conditions[0]['HO'] = 0.0002\n",
    "conditions[0]['HO2'] = 7.00E-03\n",
    "conditions[0]['NO'] = 0.08\n",
    "conditions[0]['O3'] = 20\n",
    "conditions[0]['NO3'] = 0.007\n",
    "conditions[0]['CH3OO'] = 0.001\n",
    "conditions[0]['CH3CO3'] = 0.001\n",
    "conditions[0]['sza'] = 0\n",
    "conditions[0]['O2'] = 210000000\n",
    "conditions[0]['OXYGEN'] = 210000000\n",
    "conditions[0]['MEPERO'] = 0.001\n",
    "conditions[0]['PERO1'] = 0.001\n",
    "conditions[0]['PERO2'] = 0.001\n",
    "conditions[0]['PERO3'] = 0.001\n",
    "conditions[0]['PERO4'] = 0.001\n",
    "conditions[0]['PERO5'] = 0.001\n",
    "conditions[0]['PERO6'] = 0.001\n",
    "conditions[0]['PERO7'] = 0.001\n",
    "conditions[0]['PERO8'] = 0.001\n",
    "conditions[0]['PERO9'] = 0.001\n",
    "conditions[0]['NO2'] = 0.2\n",
    "conditions[0]['ISOM'] = 0.001\n",
    "conditions[0]['TBODY'] = 1\n",
    "conditions[0]['FALLOFF'] = 1\n",
    "conditions[0]['N2O5'] = 0.002\n",
    "conditions[0]['CMPHEN']= 1\n",
    "conditions[0]['SO2'] = 0"
   ]
  },
  {
   "cell_type": "code",
   "execution_count": 149,
   "id": "3cfafdcf-e8a0-4cbd-80c3-54be3af95135",
   "metadata": {},
   "outputs": [],
   "source": [
    "TEMP = 298"
   ]
  },
  {
   "cell_type": "code",
   "execution_count": 151,
   "id": "9b4118c9-b0b0-4c9c-b20f-e8be69095a8c",
   "metadata": {},
   "outputs": [],
   "source": [
    "def_cond_dict['O2'] = 210000000\n",
    "def_cond_dict['OXYGEN'] = 210000000\n",
    "def_cond_dict['MEPERO'] = 0.001\n",
    "def_cond_dict['PERO1'] = 0.001\n",
    "def_cond_dict['PERO2'] = 0.001\n",
    "def_cond_dict['PERO3'] = 0.001\n",
    "def_cond_dict['PERO4'] = 0.001\n",
    "def_cond_dict['PERO5'] = 0.001\n",
    "def_cond_dict['PERO6'] = 0.001\n",
    "def_cond_dict['PERO7'] = 0.001\n",
    "def_cond_dict['PERO8'] = 0.001\n",
    "def_cond_dict['PERO9'] = 0.001\n",
    "def_cond_dict['NO2'] = 0.2\n",
    "def_cond_dict['ISOM'] = 0.001\n",
    "def_cond_dict['TBODY'] = 1\n",
    "def_cond_dict['FALLOFF'] = 1\n",
    "def_cond_dict['N2O5'] = 0.002\n",
    "def_cond_dict['CMPHEN']= 1\n",
    "def_cond_dict['SO2'] = 0"
   ]
  },
  {
   "cell_type": "code",
   "execution_count": 153,
   "id": "f80c0a33-704e-41aa-b599-3656867822f1",
   "metadata": {},
   "outputs": [],
   "source": [
    "conditions = [deepcopy(def_cond_dict),deepcopy(def_cond_dict),deepcopy(def_cond_dict),deepcopy(def_cond_dict),deepcopy(def_cond_dict),deepcopy(def_cond_dict)\n",
    "        ]"
   ]
  },
  {
   "cell_type": "code",
   "execution_count": 155,
   "id": "519c785f-7cb3-457a-93eb-b803a7602c53",
   "metadata": {},
   "outputs": [],
   "source": [
    "#input conditions\n",
    "conditions[0]['HO'] = 0.0002\n",
    "conditions[0]['HO2'] = 7.00E-03\n",
    "conditions[0]['NO'] = 0.08\n",
    "conditions[0]['O3'] = 20\n",
    "conditions[0]['NO3'] = 0.007\n",
    "conditions[0]['CH3OO'] = 0.001\n",
    "conditions[0]['CH3CO3'] = 0.001\n",
    "conditions[0]['O2'] = 210000000\n",
    "conditions[0]['sza'] = 0\n",
    "conditions[0]['sun'] = 1\n",
    "\n",
    "conditions[0]['PERO1'] = 0.00078\n",
    "conditions[0]['PERO2'] = 1e-7\n",
    "conditions[0]['PERO3'] = 0.0012\n",
    "conditions[0]['PERO4'] = 0.0009\n",
    "conditions[0]['PERO5'] = 6e-9\n",
    "conditions[0]['PERO6'] = 0.000\n",
    "conditions[0]['PERO7'] = 0.0011\n",
    "conditions[0]['PERO8'] = 0.00056\n",
    "conditions[0]['PERO9'] = 0.00058\n",
    "\n",
    "\n",
    "#low nox\n",
    "conditions[1]['HO'] = 0.0002\n",
    "conditions[1]['HO2'] = 7.00E-03\n",
    "conditions[1]['NO'] = 0.02\n",
    "conditions[1]['O3'] = 0\n",
    "conditions[1]['NO3'] = 0.000\n",
    "conditions[1]['CH3OO'] = 0.000\n",
    "conditions[1]['CH3CO3'] = 0.000\n",
    "conditions[1]['O2'] = 210000000\n",
    "conditions[1]['sza'] = 0\n",
    "conditions[1]['sun'] = 1\n",
    "\n",
    "conditions[1]['PERO1'] = 0.1\n",
    "conditions[1]['PERO2'] = 5.3e-6\n",
    "conditions[1]['PERO3'] = 0.14\n",
    "conditions[1]['PERO4'] = 0.088\n",
    "conditions[1]['PERO5'] = 8.9e-9\n",
    "conditions[1]['PERO6'] = 0.000\n",
    "conditions[1]['PERO7'] = 0.085\n",
    "conditions[1]['PERO8'] = 0.091\n",
    "conditions[1]['PERO9'] = 0.061\n",
    "\n",
    "\n",
    "\n",
    "#high nox\n",
    "conditions[2]['HO'] = 0.000002\n",
    "conditions[2]['HO2'] = 7.00E-05\n",
    "conditions[2]['NO'] = 0.2\n",
    "conditions[2]['O3'] = 0\n",
    "conditions[2]['NO3'] = 0.007\n",
    "conditions[2]['CH3OO'] = 0.000\n",
    "conditions[2]['CH3CO3'] = 0.000\n",
    "conditions[2]['O2'] = 210000000\n",
    "conditions[2]['sza'] = 90\n",
    "conditions[2]['sun'] = 0\n",
    "\n",
    "conditions[2]['PERO1'] = 0.005\n",
    "conditions[2]['PERO2'] = 2.46e-7\n",
    "conditions[2]['PERO3'] = 0.007\n",
    "conditions[2]['PERO4'] = 0.005\n",
    "conditions[2]['PERO5'] = 8.59e-11\n",
    "conditions[2]['PERO6'] = 0.000\n",
    "conditions[2]['PERO7'] = 0.0089\n",
    "conditions[2]['PERO8'] = 0.0039\n",
    "conditions[2]['PERO9'] = 0.004\n",
    "\n",
    "\n",
    "#high o3\n",
    "conditions[3]['HO'] = 0.0001\n",
    "conditions[3]['HO2'] = 7.00E-03\n",
    "conditions[3]['NO'] = 0.03\n",
    "conditions[3]['O3'] = 80\n",
    "conditions[3]['NO3'] = 0.000\n",
    "conditions[3]['CH3OO'] = 0.001\n",
    "conditions[3]['CH3CO3'] = 0.001\n",
    "conditions[3]['O2'] = 210000000\n",
    "conditions[3]['sza'] = 0\n",
    "conditions[3]['sun'] = 1\n",
    "\n",
    "conditions[3]['PERO1'] = 1.98e-5\n",
    "conditions[3]['PERO2'] = 1.61e-9\n",
    "conditions[3]['PERO3'] = 3e-5\n",
    "conditions[3]['PERO4'] = 2.6e-5\n",
    "conditions[3]['PERO5'] = 5.5e-12\n",
    "conditions[3]['PERO6'] = 0.000\n",
    "conditions[3]['PERO7'] = 4.7e-5\n",
    "conditions[3]['PERO8'] = 2.36e-5\n",
    "conditions[3]['PERO9'] = 2.6e-5\n",
    "\n",
    "#high no3 low hv\n",
    "conditions[4]['HO'] = 0.00005\n",
    "conditions[4]['HO2'] = 3.00E-03\n",
    "conditions[4]['NO'] = 0.08\n",
    "conditions[4]['O3'] = 0\n",
    "conditions[4]['NO3'] = 0.007\n",
    "conditions[4]['CH3OO'] = 0.001\n",
    "conditions[4]['CH3CO3'] = 0.001\n",
    "conditions[4]['O2'] = 210000000\n",
    "conditions[4]['sza'] = 90\n",
    "conditions[4]['sun'] = 0\n",
    "\n",
    "conditions[4]['PERO1'] = 1.98e-5\n",
    "conditions[4]['PERO2'] = 1.61e-9\n",
    "conditions[4]['PERO3'] = 3e-5\n",
    "conditions[4]['PERO4'] = 2.6e-5\n",
    "conditions[4]['PERO5'] = 5.5e-12\n",
    "conditions[4]['PERO6'] = 0.000\n",
    "conditions[4]['PERO7'] = 4.7e-5\n",
    "conditions[4]['PERO8'] = 2.36e-5\n",
    "conditions[4]['PERO9'] = 2.6e-5\n",
    "\n",
    "# low hv\n",
    "conditions[5]['HO'] = 0.00005\n",
    "conditions[5]['HO2'] = 3.00E-03\n",
    "conditions[5]['NO'] = 0.08\n",
    "conditions[5]['O3'] = 20\n",
    "conditions[5]['NO3'] = 0.000\n",
    "conditions[5]['CH3OO'] = 0.001\n",
    "conditions[5]['CH3CO3'] = 0.001\n",
    "conditions[5]['O2'] = 210000000\n",
    "conditions[5]['sza'] = 90\n",
    "conditions[5]['sun'] = 0\n",
    "\n",
    "conditions[5]['PERO1'] = 0.003\n",
    "conditions[5]['PERO2'] = 8.88e-10\n",
    "conditions[5]['PERO3'] = 0.0049\n",
    "conditions[5]['PERO4'] = 0.002\n",
    "conditions[5]['PERO5'] = 1.3e-11\n",
    "conditions[5]['PERO6'] = 0.000\n",
    "conditions[5]['PERO7'] = 0.002\n",
    "conditions[5]['PERO8'] = 0.00032\n",
    "conditions[5]['PERO9'] = 0.00033"
   ]
  },
  {
   "cell_type": "code",
   "execution_count": 157,
   "id": "a26207f5-f423-4358-9cb4-4be6760c23dc",
   "metadata": {},
   "outputs": [],
   "source": [
    "szaoptions = [0, 10, 20, 30, 40, 50, 60, 70, 78, 86]"
   ]
  },
  {
   "cell_type": "markdown",
   "id": "9eaabb53-cfb4-43c0-b56c-ee588c128cd0",
   "metadata": {},
   "source": [
    "### Category Filtering"
   ]
  },
  {
   "cell_type": "markdown",
   "id": "80c75b29-113e-4106-bb40-a8ac843da9c7",
   "metadata": {},
   "source": [
    "#### Box Model Conc Filtering"
   ]
  },
  {
   "cell_type": "code",
   "execution_count": 161,
   "id": "f8def46d-0922-44eb-93dc-7abf75d8093e",
   "metadata": {},
   "outputs": [],
   "source": [
    "with open('important_aerosol_5_01.pickle', 'rb') as f:\n",
    "    # Pickle the 'data' dictionary using the highest protocol available.\n",
    "    imp_specs = pickle.load(f)"
   ]
  },
  {
   "cell_type": "code",
   "execution_count": 163,
   "id": "835f7b95-113b-4a6e-bc5a-c719b65861ef",
   "metadata": {},
   "outputs": [],
   "source": [
    "imp_specs_clean = set()\n",
    "for j in imp_specs:\n",
    "    imp_specs_clean.add(j[1:])"
   ]
  },
  {
   "cell_type": "code",
   "execution_count": 165,
   "id": "bc9d6ad1-c794-4be1-b99c-8ede853afe8b",
   "metadata": {},
   "outputs": [],
   "source": [
    "\n",
    "new_cat_dict = {i:[] for i in cat_dict}\n",
    "for i in cat_dict:\n",
    "    for j in cat_dict[i]:\n",
    "        if j in imp_specs_clean:\n",
    "            new_cat_dict[i].append(j)"
   ]
  },
  {
   "cell_type": "code",
   "execution_count": 167,
   "id": "6c31fac3-4ae5-44e8-baa8-a1a166f1fbf4",
   "metadata": {},
   "outputs": [
    {
     "data": {
      "text/plain": [
       "4902"
      ]
     },
     "execution_count": 167,
     "metadata": {},
     "output_type": "execute_result"
    }
   ],
   "source": [
    "sum([len(new_cat_dict[i]) for i in new_cat_dict])"
   ]
  },
  {
   "cell_type": "code",
   "execution_count": 169,
   "id": "2b2e1582-de34-489f-998a-25c19cb4f2ad",
   "metadata": {},
   "outputs": [],
   "source": [
    "settings['Categories'] = [['cat'+str(i),new_cat_dict[i]] for i in new_cat_dict]"
   ]
  },
  {
   "cell_type": "code",
   "execution_count": null,
   "id": "c927ac93-e53b-4afc-921a-b46d4b7f815d",
   "metadata": {},
   "outputs": [],
   "source": []
  },
  {
   "cell_type": "markdown",
   "id": "0d481923-0c33-432d-b198-45b8ab098df2",
   "metadata": {
    "jp-MarkdownHeadingCollapsed": true
   },
   "source": [
    "#### Relative rate filtering (skip this)"
   ]
  },
  {
   "cell_type": "code",
   "execution_count": null,
   "id": "6bc81ff7-2ab2-4b3a-9b92-f6902f3d92f0",
   "metadata": {},
   "outputs": [],
   "source": [
    "relative_rates = []\n",
    "counter = 0\n",
    "for r in camphene_mech.reactions:\n",
    "    rate = []\n",
    "    for i in conditions:\n",
    "        M = pressure_to_m(i['pressure'],i['temp'])\n",
    "        TEMP = i['temp']\n",
    "        SUN = i['sun']\n",
    "        CFACTOR = 2.5e+19\n",
    "        p_fac = M/1000000000\n",
    "        if len(r.reactants)>1:\n",
    "            if r.reactants[0] in i and r.reactants[0] not in settings['roots']:\n",
    "                rate.append(r.eval_rate_law[counter]*i[r.reactants[0]]*p_fac)\n",
    "            elif r.reactants[1] in i and r.reactants[1] not in settings['roots']:\n",
    "                rate.append(r.eval_rate_law[counter]*i[r.reactants[1]]*p_fac)\n",
    "            else:\n",
    "                rate.append(0)\n",
    "        else:\n",
    "            rate.append(r.eval_rate_law[counter])\n",
    "        \n",
    "    relative_rates.append(np.mean(rate))\n",
    "    \n",
    "            "
   ]
  },
  {
   "cell_type": "code",
   "execution_count": null,
   "id": "d2491883-300f-47f4-96a1-f6751388c6a3",
   "metadata": {},
   "outputs": [],
   "source": [
    "species_rates = [0 for i in species_list_names]\n",
    "for r in range(len(camphene_mech.reactions)):\n",
    "    for re in camphene_mech.reactions[r].reactants:\n",
    "        if re in dic:\n",
    "            species_rates[dic[re]]+= relative_rates[r]"
   ]
  },
  {
   "cell_type": "code",
   "execution_count": null,
   "id": "3cc79ac0-6dc1-4cfd-ad15-5c954ec45c0b",
   "metadata": {},
   "outputs": [],
   "source": [
    "histy = []\n",
    "new_cat_dict_2 = {i:[] for i in new_cat_dict}\n",
    "for i in new_cat_dict:\n",
    "    for j in new_cat_dict[i]:\n",
    "        if species_rates[dic[j]]<1e-4:\n",
    "            new_cat_dict_2[i].append(j)\n",
    "        #if species_rates[dic[j]]>0:\n",
    "        #    histy.append(math.log10(species_rates[dic[j]]))\n",
    "            "
   ]
  },
  {
   "cell_type": "code",
   "execution_count": null,
   "id": "fc9e5782-3df8-48f3-a649-da62abeef666",
   "metadata": {},
   "outputs": [],
   "source": [
    "settings['Categories'] = [['cat'+str(i),new_cat_dict_2[i]] for i in new_cat_dict_2]"
   ]
  },
  {
   "cell_type": "code",
   "execution_count": null,
   "id": "314934d4-96bc-4c69-b467-b0c1eeba2039",
   "metadata": {},
   "outputs": [],
   "source": [
    "[[len(new_cat_dict_2[i]), len(new_cat_dict[i])] for i in new_cat_dict]"
   ]
  },
  {
   "cell_type": "markdown",
   "id": "1756d0bf-f740-4955-9092-86ed0308fd19",
   "metadata": {},
   "source": [
    "### Running the Algorithm"
   ]
  },
  {
   "cell_type": "code",
   "execution_count": 171,
   "id": "f8f7b5b2-ca1d-4941-97ba-fbfe3a2a524f",
   "metadata": {},
   "outputs": [],
   "source": [
    "settings['No Group'] = ['CH2O','CH2OO']\n",
    "#settings['No Group'] = deepcopy(species_list_names)"
   ]
  },
  {
   "cell_type": "code",
   "execution_count": 173,
   "id": "a8d33db2-82af-4d69-bd59-ca4140889795",
   "metadata": {},
   "outputs": [],
   "source": [
    "settings['Manual Groups'] = []"
   ]
  },
  {
   "cell_type": "code",
   "execution_count": 175,
   "id": "f5af09e6-4593-432e-aaa8-08282d8a64ed",
   "metadata": {},
   "outputs": [],
   "source": [
    "species_list_names_2 = deepcopy(species_list_names)"
   ]
  },
  {
   "cell_type": "code",
   "execution_count": 177,
   "id": "f62c4878-ccdb-48bb-a62a-552769fee74a",
   "metadata": {},
   "outputs": [],
   "source": [
    "center_specs_names = []\n",
    "count = 0\n",
    "for i in center_specs:\n",
    "    count += 1\n",
    "    spec_str = []\n",
    "    center_specs_names.append('CAT' + str(count))\n",
    "    "
   ]
  },
  {
   "cell_type": "code",
   "execution_count": 179,
   "id": "fc2e1289-fb8f-4cd5-9839-0653e51d9414",
   "metadata": {},
   "outputs": [],
   "source": [
    "species_list_names_2.extend(center_specs_names)"
   ]
  },
  {
   "cell_type": "code",
   "execution_count": 181,
   "id": "231818cb-1b5b-4d60-88e7-ee0bec2ff43b",
   "metadata": {},
   "outputs": [],
   "source": [
    "settings['Cycle Reaction Keep']= True\n",
    "settings['Remove Weak Rxns']= False\n",
    "settings['Weak Rxn Threshold'] = 0.0000"
   ]
  },
  {
   "cell_type": "code",
   "execution_count": 183,
   "id": "67ba55c7-571e-41e7-bc45-4ab06268a237",
   "metadata": {},
   "outputs": [],
   "source": [
    "settings['Iterations'] = 0"
   ]
  },
  {
   "cell_type": "code",
   "execution_count": 185,
   "id": "5c0715c3-b0b3-470f-b1be-0edb1b4c2ad3",
   "metadata": {},
   "outputs": [],
   "source": [
    "settings['Protected'] = ['CMPHEN','CH2O']"
   ]
  },
  {
   "cell_type": "code",
   "execution_count": 187,
   "id": "178d573c-c532-4b8f-87f1-cd0aa4793454",
   "metadata": {},
   "outputs": [],
   "source": [
    "settings['Remove Species'] = []"
   ]
  },
  {
   "cell_type": "code",
   "execution_count": 191,
   "id": "18ed810d-be71-4920-8b5b-c83d10f31558",
   "metadata": {},
   "outputs": [],
   "source": [
    "settings['Cycle Reaction Keep']= True\n",
    "settings['Remove Weak Rxns']= False\n",
    "settings['Weak Rxn Threshold'] = 0.0000\n",
    "settings['Reduce Stiffness'] = False\n",
    "settings['Stiffness Threshold'] = 5"
   ]
  },
  {
   "cell_type": "code",
   "execution_count": null,
   "id": "0e8b7c48-93d7-4ab5-a7a1-5ed7d0523175",
   "metadata": {},
   "outputs": [],
   "source": [
    "red_mech_size = 30\n",
    "print('STARTING')\n",
    "xs = time.time()\n",
    "# x is the reduced mechanism\n",
    "x = am.AMORE_mechanism_reduction(camphene_mech, background_spc_n,conditions, settings)\n",
    "xf = time.time()\n",
    "print('ENDING')\n",
    "print('TOOK ', xf-xs, ' Seconds')"
   ]
  }
 ],
 "metadata": {
  "kernelspec": {
   "display_name": "Python 3 (ipykernel)",
   "language": "python",
   "name": "python3"
  },
  "language_info": {
   "codemirror_mode": {
    "name": "ipython",
    "version": 3
   },
   "file_extension": ".py",
   "mimetype": "text/x-python",
   "name": "python",
   "nbconvert_exporter": "python",
   "pygments_lexer": "ipython3",
   "version": "3.12.7"
  }
 },
 "nbformat": 4,
 "nbformat_minor": 5
}
